{
 "cells": [
  {
   "cell_type": "code",
   "execution_count": 1,
   "metadata": {},
   "outputs": [],
   "source": [
    "#!/usr/bin/env python\n",
    "# coding: utf-8\n",
    "\n",
    "# # Importing libraries\n",
    "import pandas as pd"
   ]
  },
  {
   "cell_type": "code",
   "execution_count": 2,
   "metadata": {},
   "outputs": [],
   "source": [
    "import numpy as np\n",
    "from sklearn import linear_model\n",
    "from sklearn.base import TransformerMixin"
   ]
  },
  {
   "cell_type": "code",
   "execution_count": 3,
   "metadata": {
    "scrolled": true
   },
   "outputs": [],
   "source": [
    "#Reading the file\n",
    "df = pd.read_csv('C:/Users/Vikram/income_pred.csv')\n"
   ]
  },
  {
   "cell_type": "code",
   "execution_count": 4,
   "metadata": {
    "scrolled": false
   },
   "outputs": [],
   "source": [
    "#cleaning the data, fill missing values\n",
    "df = df.replace('#N/A',np.nan)\n",
    "df = df.replace('0', np.nan)\n",
    "df = df.replace('#', np.nan)\n",
    "df = df[df['Income in EUR'] >= 0]\n",
    "\n",
    "#Imputing NA values with mean values\n",
    "\n",
    "class DataFrameImputer(TransformerMixin):\n",
    "\n",
    "    def __init__(self):\n",
    "        \"\"\"Impute missing values.\n",
    "\n",
    "        Columns of other types are imputed with mean of column.\n",
    "\n",
    "        \"\"\"\n",
    "    def fit(self, X, y=None):\n",
    "\n",
    "        self.fill = pd.Series([X[c].value_counts().index[0]\n",
    "            if X[c].dtype == np.dtype('O') else X[c].mean() for c in X],\n",
    "            index=X.columns)\n",
    "\n",
    "        return self\n",
    "\n",
    "    def transform(self, X, y=None):\n",
    "        return X.fillna(self.fill)\n",
    "\n",
    "X = pd.DataFrame(df)\n",
    "xt = DataFrameImputer().fit_transform(X)\n",
    "df=xt\n",
    "\n"
   ]
  },
  {
   "cell_type": "code",
   "execution_count": 5,
   "metadata": {},
   "outputs": [],
   "source": [
    "#Removing the income and instance column\n",
    "X = df.drop('Income in EUR',axis=1)\n",
    "X = X.drop('Instance',axis=1)\n",
    "X = pd.get_dummies(X, columns=[\"Profession\",\"University Degree\",\"Country\",\"Year of Record\",\"Gender\",\"Hair Color\"], prefix=[\"prof\",\"unv\",\"cou\",\"yea\",\"gen\",\"hair\"],drop_first=True)\n",
    "\n",
    "y = df[['Income in EUR']]\n",
    "\n",
    "\n"
   ]
  },
  {
   "cell_type": "code",
   "execution_count": 6,
   "metadata": {},
   "outputs": [],
   "source": [
    "# Splitting the data between training and Testing and Training\n",
    "from sklearn.model_selection import train_test_split\n",
    "X_train, X_test, y_train, y_test = train_test_split(X, y, test_size=0.2,random_state=1)"
   ]
  },
  {
   "cell_type": "code",
   "execution_count": 7,
   "metadata": {},
   "outputs": [
    {
     "data": {
      "text/plain": [
       "(89461, 1)"
      ]
     },
     "execution_count": 7,
     "metadata": {},
     "output_type": "execute_result"
    }
   ],
   "source": [
    "from sklearn.linear_model import LinearRegression\n",
    "from sklearn.metrics import mean_squared_error, r2_score\n",
    "from math import sqrt\n",
    "y_train.shape"
   ]
  },
  {
   "cell_type": "code",
   "execution_count": 8,
   "metadata": {},
   "outputs": [
    {
     "name": "stdout",
     "output_type": "stream",
     "text": [
      "1551\n",
      "rms: 75758.34\n"
     ]
    }
   ],
   "source": [
    "# getting all hot_econded columns \"unv\",\"cou\",\"yea\",\"gen\",\"Prof\",\"hair\",\"age\",\"size of city\",\"body Height\"\n",
    "#Calculate RSME and store predictions to CSV\n",
    "#X = X.drop('yea_1999.4192859130778', axis=1)\n",
    "prof_col = [col for col in X if col.startswith('prof')]\n",
    "hair_col = [col for col in X if col.startswith('hair')]\n",
    "edu_col = [col for col in X if col.startswith('unv')]\n",
    "country_col = [col for col in X if col.startswith('cou')]\n",
    "year_col = [col for col in X if col.startswith('yea')]\n",
    "gender_col = [col for col in X if col.startswith('gen')]\n",
    "size_city_col = ['Size of City']\n",
    "age_col = ['Age']\n",
    "#glass_col = ['Wears Glasses']\n",
    "height_col = ['Body Height [cm]']\n",
    "#print(gender_col)\n",
    "#Combining all the columns\n",
    "combined_col = edu_col + country_col + year_col + gender_col + hair_col + size_city_col + age_col + prof_col + height_col\n",
    "print(len(combined_col))\n",
    "reg = LinearRegression()\n",
    "reg.fit(X_train[combined_col], y_train)\n",
    "y_predicted = reg.predict(X_train[combined_col])\n",
    "print(\"rms: %.2f\" % sqrt(mean_squared_error(y_train, y_predicted)))"
   ]
  },
  {
   "cell_type": "code",
   "execution_count": 10,
   "metadata": {},
   "outputs": [
    {
     "name": "stdout",
     "output_type": "stream",
     "text": [
      "39\n",
      "0\n",
      "[[  6848.08066354]\n",
      " [-36105.08020829]\n",
      " [ 44082.93977104]\n",
      " ...\n",
      " [ 76644.71499472]\n",
      " [206664.77719457]\n",
      " [167872.47667509]]\n"
     ]
    }
   ],
   "source": [
    "\n",
    "test = pd.read_csv('E:/test.csv')\n",
    "test = test.replace('#N/A', np.nan)\n",
    "test = test.replace('0', np.nan)\n",
    "test = test.drop('Income', axis=1)\n",
    "test.fillna(method='ffill', inplace=True)\n",
    "test = pd.get_dummies(test, columns=[\"Profession\",\"University Degree\",\"Country\",\"Year of Record\",\"Gender\",\"Hair Color\"], prefix=[\"prof\",\"unv\",\"cou\",\"yea\",\"gen\",\"hair\"],drop_first=True)\n",
    "t_prof_col = [col for col in test if col.startswith('prof')]\n",
    "t_hair_col = [col for col in X if col.startswith('hair')]\n",
    "t_country_col = [col for col in test if col.startswith('cou')]\n",
    "t_edu_col = [col for col in test if col.startswith('edu')]\n",
    "t_year_col = [col for col in test if col.startswith('yea')]\n",
    "t_gender_col = [col for col in test if col.startswith('gen')]\n",
    "t_size_city_col = ['Size of City']\n",
    "t_age_col = ['Age']\n",
    "t_height_col = ['Body Height [cm]']\n",
    "t_combined_col = t_edu_col + t_country_col + t_year_col + t_gender_col + t_hair_col + t_size_city_col + t_age_col + t_height_col + t_prof_col\n",
    "missing = np.setdiff1d(combined_col,t_combined_col)\n",
    "print(len(missing))\n",
    "for i in range(len(missing)):\n",
    "    test[missing[i]] = np.nan\n",
    "test = test.fillna(0)\n",
    "print(test.isnull().sum().sum())\n",
    "test_y_predicted = reg.predict(test[combined_col])\n",
    "print(test_y_predicted)\n",
    "np.savetxt(\"output6.csv\", test_y_predicted, delimiter=\",\")"
   ]
  },
  {
   "cell_type": "code",
   "execution_count": null,
   "metadata": {},
   "outputs": [],
   "source": []
  },
  {
   "cell_type": "code",
   "execution_count": null,
   "metadata": {},
   "outputs": [],
   "source": []
  }
 ],
 "metadata": {
  "kernelspec": {
   "display_name": "Python 3",
   "language": "python",
   "name": "python3"
  },
  "language_info": {
   "codemirror_mode": {
    "name": "ipython",
    "version": 3
   },
   "file_extension": ".py",
   "mimetype": "text/x-python",
   "name": "python",
   "nbconvert_exporter": "python",
   "pygments_lexer": "ipython3",
   "version": "3.7.3"
  }
 },
 "nbformat": 4,
 "nbformat_minor": 2
}
